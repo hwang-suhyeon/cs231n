{
  "cells": [
    {
      "cell_type": "code",
      "execution_count": 1,
      "metadata": {
        "id": "57ltzQ4S_eJG"
      },
      "outputs": [],
      "source": [
        "%matplotlib inline"
      ]
    },
    {
      "cell_type": "markdown",
      "metadata": {
        "id": "c0ZO_F9Q_eJK"
      },
      "source": [
        "\n",
        "`Learn the Basics <intro.html>`_ ||\n",
        "`Quickstart <quickstart_tutorial.html>`_ ||\n",
        "`Tensors <tensorqs_tutorial.html>`_ ||\n",
        "`Datasets & DataLoaders <data_tutorial.html>`_ ||\n",
        "`Transforms <transforms_tutorial.html>`_ ||\n",
        "**Build Model** ||\n",
        "`Autograd <autogradqs_tutorial.html>`_ ||\n",
        "`Optimization <optimization_tutorial.html>`_ ||\n",
        "`Save & Load Model <saveloadrun_tutorial.html>`_\n",
        "\n",
        "Build the Neural Network\n",
        "===================\n",
        "\n",
        "Neural networks comprise of layers/modules that perform operations on data.\n",
        "The `torch.nn <https://pytorch.org/docs/stable/nn.html>`_ namespace provides all the building blocks you need to\n",
        "build your own neural network. Every module in PyTorch subclasses the `nn.Module <https://pytorch.org/docs/stable/generated/torch.nn.Module.html>`_.\n",
        "A neural network is a module itself that consists of other modules (layers). This nested structure allows for\n",
        "building and managing complex architectures easily.\n",
        "\n",
        "In the following sections, we'll build a neural network to classify images in the FashionMNIST dataset.\n"
      ]
    },
    {
      "cell_type": "code",
      "execution_count": null,
      "metadata": {
        "id": "6uaueiTR_eJO"
      },
      "outputs": [],
      "source": [
        "import os\n",
        "import torch\n",
        "from torch import nn\n",
        "from torch.utils.data import DataLoader\n",
        "from torchvision import datasets, transforms"
      ]
    },
    {
      "cell_type": "markdown",
      "metadata": {
        "id": "bGawHoaF_eJP"
      },
      "source": [
        "Get Device for Training\n",
        "-----------------------\n",
        "We want to be able to train our model on a hardware accelerator like the GPU,\n",
        "if it is available. Let's check to see if\n",
        "`torch.cuda <https://pytorch.org/docs/stable/notes/cuda.html>`_ is available, else we\n",
        "continue to use the CPU.\n",
        "\n"
      ]
    },
    {
      "cell_type": "code",
      "execution_count": null,
      "metadata": {
        "id": "D6tKgchg_eJQ",
        "outputId": "6f17e42f-57f3-4bab-c64d-ed42761a29e1",
        "colab": {
          "base_uri": "https://localhost:8080/"
        }
      },
      "outputs": [
        {
          "output_type": "stream",
          "name": "stdout",
          "text": [
            "Using cuda device\n"
          ]
        }
      ],
      "source": [
        "device = \"cuda\" if torch.cuda.is_available() else \"cpu\"\n",
        "print(f\"Using {device} device\")"
      ]
    },
    {
      "cell_type": "markdown",
      "metadata": {
        "id": "MQ2MuMuL_eJR"
      },
      "source": [
        "Define the Class\n",
        "-------------------------\n",
        "We define our neural network by subclassing ``nn.Module``, and\n",
        "initialize the neural network layers in ``__init__``. Every ``nn.Module`` subclass implements\n",
        "the operations on input data in the ``forward`` method.\n",
        "\n",
        "![image.png](data:image/png;base64,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)"
      ]
    },
    {
      "cell_type": "code",
      "execution_count": null,
      "metadata": {
        "id": "PuMBExoj_eJS"
      },
      "outputs": [],
      "source": [
        "class NeuralNetwork(nn.Module): #nn.Module이라 forward\n",
        "    def __init__(self):\n",
        "        super(NeuralNetwork, self).__init__()\n",
        "        self.flatten = nn.Flatten() #28*28를 1차원으로 펴주는 역할 1*784 \n",
        "        #computational graphs\n",
        "        self.linear_relu_stack = nn.Sequential(\n",
        "            nn.Linear(28*28, 512), #weight matrix :  784*512\n",
        "            nn.ReLU(),\n",
        "            nn.Linear(512, 512), #weight matrix : 512*512\n",
        "            nn.ReLU(),\n",
        "            nn.Linear(512, 10),  #weight matrix : 512*10\n",
        "        )\n",
        "\n",
        "    def forward(self, x): #입력을 받아 predict\n",
        "        x = self.flatten(x)\n",
        "        logits = self.linear_relu_stack(x) #logit 1* 10차원\n",
        "        \n",
        "        return logits"
      ]
    },
    {
      "cell_type": "markdown",
      "metadata": {
        "id": "4WYsPJ7q_eJT"
      },
      "source": [
        "We create an instance of ``NeuralNetwork``, and move it to the ``device``, and print\n",
        "its structure.\n",
        "\n"
      ]
    },
    {
      "cell_type": "code",
      "execution_count": null,
      "metadata": {
        "id": "vB9j9JS__eJU",
        "outputId": "19a609d2-230b-4c0f-9f35-5a97a8d490c3",
        "colab": {
          "base_uri": "https://localhost:8080/"
        }
      },
      "outputs": [
        {
          "output_type": "stream",
          "name": "stdout",
          "text": [
            "NeuralNetwork(\n",
            "  (flatten): Flatten(start_dim=1, end_dim=-1)\n",
            "  (linear_relu_stack): Sequential(\n",
            "    (0): Linear(in_features=784, out_features=512, bias=True)\n",
            "    (1): ReLU()\n",
            "    (2): Linear(in_features=512, out_features=512, bias=True)\n",
            "    (3): ReLU()\n",
            "    (4): Linear(in_features=512, out_features=10, bias=True)\n",
            "  )\n",
            ")\n"
          ]
        }
      ],
      "source": [
        "model = NeuralNetwork().to(device)\n",
        "print(model)"
      ]
    },
    {
      "cell_type": "markdown",
      "metadata": {
        "id": "YWvVGKLi_eJV"
      },
      "source": [
        "To use the model, we pass it the input data. This executes the model's ``forward``,\n",
        "along with some `background operations <https://github.com/pytorch/pytorch/blob/270111b7b611d174967ed204776985cefca9c144/torch/nn/modules/module.py#L866>`_.\n",
        "Do not call ``model.forward()`` directly!\n",
        "\n",
        "Calling the model on the input returns a 10-dimensional tensor with raw predicted values for each class.\n",
        "We get the prediction probabilities by passing it through an instance of the ``nn.Softmax`` module.\n",
        "\n"
      ]
    },
    {
      "cell_type": "code",
      "execution_count": null,
      "metadata": {
        "id": "O9qroK_6_eJW",
        "outputId": "38d45eda-e942-41f6-e762-a680b8b0ee62",
        "colab": {
          "base_uri": "https://localhost:8080/"
        }
      },
      "outputs": [
        {
          "output_type": "stream",
          "name": "stdout",
          "text": [
            "Predicted class: tensor([8], device='cuda:0')\n"
          ]
        }
      ],
      "source": [
        "X = torch.rand(1, 28, 28, device=device) #28*28 이미지 선언\n",
        "logits = model(X) #모델의 출력값\n",
        "pred_probab = nn.Softmax(dim=1)(logits) #10차원 벡터에 softmax 함수 적용 -> 결과값을 확률로 변환(score)\n",
        "y_pred = pred_probab.argmax(1) #확률 값 중 가장 큰 값을 가진 인덱스를 출력\n",
        "print(f\"Predicted class: {y_pred}\")"
      ]
    },
    {
      "cell_type": "markdown",
      "metadata": {
        "id": "eKBd3cqR_eJX"
      },
      "source": [
        "--------------\n",
        "\n",
        "\n"
      ]
    },
    {
      "cell_type": "code",
      "source": [
        "logits"
      ],
      "metadata": {
        "id": "SytNk6nbAf5t",
        "outputId": "a2523d80-182d-4d23-be35-291a9fc324ff",
        "colab": {
          "base_uri": "https://localhost:8080/"
        }
      },
      "execution_count": null,
      "outputs": [
        {
          "output_type": "execute_result",
          "data": {
            "text/plain": [
              "tensor([[ 0.0095,  0.0111, -0.0064,  0.0016, -0.0133,  0.0151, -0.0302, -0.0306,\n",
              "          0.1354, -0.0027]], device='cuda:0', grad_fn=<AddmmBackward0>)"
            ]
          },
          "metadata": {},
          "execution_count": 10
        }
      ]
    },
    {
      "cell_type": "code",
      "source": [
        "pred_probab"
      ],
      "metadata": {
        "id": "VSq1ZHHTAgAp",
        "outputId": "162363af-2182-4aea-dd76-93406c23a227",
        "colab": {
          "base_uri": "https://localhost:8080/"
        }
      },
      "execution_count": null,
      "outputs": [
        {
          "output_type": "execute_result",
          "data": {
            "text/plain": [
              "tensor([[0.0999, 0.1001, 0.0984, 0.0992, 0.0977, 0.1005, 0.0961, 0.0960, 0.1134,\n",
              "         0.0987]], device='cuda:0', grad_fn=<SoftmaxBackward0>)"
            ]
          },
          "metadata": {},
          "execution_count": 11
        }
      ]
    },
    {
      "cell_type": "code",
      "source": [
        "y_pred"
      ],
      "metadata": {
        "id": "cPx84_o3A4z6",
        "outputId": "ae08362a-a345-4f70-b0fb-a70870525955",
        "colab": {
          "base_uri": "https://localhost:8080/"
        }
      },
      "execution_count": null,
      "outputs": [
        {
          "output_type": "execute_result",
          "data": {
            "text/plain": [
              "tensor([8], device='cuda:0')"
            ]
          },
          "metadata": {},
          "execution_count": 12
        }
      ]
    },
    {
      "cell_type": "markdown",
      "metadata": {
        "id": "1_LeO4mu_eJX"
      },
      "source": [
        "Model Layers\n",
        "-------------------------\n",
        "\n",
        "Let's break down the layers in the FashionMNIST model. To illustrate it, we\n",
        "will take a sample minibatch of 3 images of size 28x28 and see what happens to it as\n",
        "we pass it through the network.\n",
        "\n",
        "파라미터 개수 : sum(w1,w2, w3의 크기)784 * 512 + 512 * 512 + 512 * 10\n"
      ]
    },
    {
      "cell_type": "code",
      "execution_count": null,
      "metadata": {
        "id": "rWEJ_wgq_eJY",
        "outputId": "e9c52224-2512-4da2-bef0-067b055a2557",
        "colab": {
          "base_uri": "https://localhost:8080/"
        }
      },
      "outputs": [
        {
          "output_type": "stream",
          "name": "stdout",
          "text": [
            "torch.Size([3, 28, 28])\n"
          ]
        }
      ],
      "source": [
        "input_image = torch.rand(3,28,28)\n",
        "print(input_image.size())"
      ]
    },
    {
      "cell_type": "markdown",
      "metadata": {
        "id": "BEhv11xu_eJY"
      },
      "source": [
        "nn.Flatten\n",
        "^^^^^^^^^^^^^^^^^^^^^^\n",
        "We initialize the `nn.Flatten  <https://pytorch.org/docs/stable/generated/torch.nn.Flatten.html>`_\n",
        "layer to convert each 2D 28x28 image into a contiguous array of 784 pixel values (\n",
        "the minibatch dimension (at dim=0) is maintained).\n",
        "\n"
      ]
    },
    {
      "cell_type": "code",
      "execution_count": null,
      "metadata": {
        "id": "dhNEGNJH_eJZ",
        "outputId": "d55d5ad6-993e-4769-89d7-f6d3d26409ff",
        "colab": {
          "base_uri": "https://localhost:8080/"
        }
      },
      "outputs": [
        {
          "output_type": "stream",
          "name": "stdout",
          "text": [
            "torch.Size([3, 784])\n"
          ]
        }
      ],
      "source": [
        "flatten = nn.Flatten()\n",
        "flat_image = flatten(input_image)\n",
        "print(flat_image.size())"
      ]
    },
    {
      "cell_type": "markdown",
      "metadata": {
        "id": "Z6wPYZ5c_eJa"
      },
      "source": [
        "nn.Linear\n",
        "^^^^^^^^^^^^^^^^^^^^^^\n",
        "The `linear layer <https://pytorch.org/docs/stable/generated/torch.nn.Linear.html>`_\n",
        "is a module that applies a linear transformation on the input using its stored weights and biases.\n",
        "\n",
        "\n"
      ]
    },
    {
      "cell_type": "code",
      "execution_count": null,
      "metadata": {
        "id": "IPW8VK5N_eJa",
        "outputId": "0c12193b-8e70-4b49-dee2-3b23d52c6070",
        "colab": {
          "base_uri": "https://localhost:8080/"
        }
      },
      "outputs": [
        {
          "output_type": "stream",
          "name": "stdout",
          "text": [
            "torch.Size([3, 20])\n"
          ]
        }
      ],
      "source": [
        "layer1 = nn.Linear(in_features=28*28, out_features=20)\n",
        "hidden1 = layer1(flat_image)\n",
        "print(hidden1.size())"
      ]
    },
    {
      "cell_type": "markdown",
      "metadata": {
        "id": "6lUlO2YM_eJb"
      },
      "source": [
        "nn.ReLU\n",
        "^^^^^^^^^^^^^^^^^^^^^^\n",
        "Non-linear activations are what create the complex mappings between the model's inputs and outputs.\n",
        "They are applied after linear transformations to introduce *nonlinearity*, helping neural networks\n",
        "learn a wide variety of phenomena.\n",
        "\n",
        "In this model, we use `nn.ReLU <https://pytorch.org/docs/stable/generated/torch.nn.ReLU.html>`_ between our\n",
        "linear layers, but there's other activations to introduce non-linearity in your model.\n",
        "\n"
      ]
    },
    {
      "cell_type": "code",
      "execution_count": null,
      "metadata": {
        "id": "5AgBcvNy_eJb",
        "outputId": "38ea72ba-a1a1-4d78-87cc-830597406552",
        "colab": {
          "base_uri": "https://localhost:8080/"
        }
      },
      "outputs": [
        {
          "output_type": "stream",
          "name": "stdout",
          "text": [
            "Before ReLU: tensor([[ 0.2955,  0.5335, -0.0652,  0.1651,  0.8874, -0.0698,  0.2496, -0.5322,\n",
            "          0.1691, -0.5692, -0.2165, -0.0991, -0.2621,  0.2609,  0.4795, -0.1790,\n",
            "          0.1262,  0.1799,  0.1691, -0.0200],\n",
            "        [ 0.2643,  0.2345,  0.0506,  0.4760,  0.5401, -0.0383,  0.6186, -0.3384,\n",
            "          0.4997, -0.6219, -0.0446, -0.3388, -0.1687,  0.0765,  0.0973,  0.2120,\n",
            "         -0.0048,  0.3700, -0.0511,  0.2326],\n",
            "        [ 0.3637,  0.5706,  0.3383,  0.5027,  0.5356,  0.1173,  0.3804, -0.2464,\n",
            "          0.8495, -0.6870,  0.1958,  0.0388, -0.1753, -0.0980,  0.2666,  0.0621,\n",
            "          0.0187,  0.5568, -0.0382,  0.0048]], grad_fn=<AddmmBackward0>)\n",
            "\n",
            "\n",
            "After ReLU: tensor([[0.2955, 0.5335, 0.0000, 0.1651, 0.8874, 0.0000, 0.2496, 0.0000, 0.1691,\n",
            "         0.0000, 0.0000, 0.0000, 0.0000, 0.2609, 0.4795, 0.0000, 0.1262, 0.1799,\n",
            "         0.1691, 0.0000],\n",
            "        [0.2643, 0.2345, 0.0506, 0.4760, 0.5401, 0.0000, 0.6186, 0.0000, 0.4997,\n",
            "         0.0000, 0.0000, 0.0000, 0.0000, 0.0765, 0.0973, 0.2120, 0.0000, 0.3700,\n",
            "         0.0000, 0.2326],\n",
            "        [0.3637, 0.5706, 0.3383, 0.5027, 0.5356, 0.1173, 0.3804, 0.0000, 0.8495,\n",
            "         0.0000, 0.1958, 0.0388, 0.0000, 0.0000, 0.2666, 0.0621, 0.0187, 0.5568,\n",
            "         0.0000, 0.0048]], grad_fn=<ReluBackward0>)\n"
          ]
        }
      ],
      "source": [
        "print(f\"Before ReLU: {hidden1}\\n\\n\")\n",
        "hidden1 = nn.ReLU()(hidden1)\n",
        "print(f\"After ReLU: {hidden1}\")"
      ]
    },
    {
      "cell_type": "markdown",
      "metadata": {
        "id": "y653411S_eJc"
      },
      "source": [
        "nn.Sequential\n",
        "^^^^^^^^^^^^^^^^^^^^^^\n",
        "`nn.Sequential <https://pytorch.org/docs/stable/generated/torch.nn.Sequential.html>`_ is an ordered\n",
        "container of modules. The data is passed through all the modules in the same order as defined. You can use\n",
        "sequential containers to put together a quick network like ``seq_modules``.\n",
        "\n"
      ]
    },
    {
      "cell_type": "code",
      "execution_count": null,
      "metadata": {
        "id": "qeupqKDm_eJc"
      },
      "outputs": [],
      "source": [
        "seq_modules = nn.Sequential(\n",
        "    flatten,\n",
        "    layer1,\n",
        "    nn.ReLU(),\n",
        "    nn.Linear(20, 10)\n",
        ")\n",
        "input_image = torch.rand(3,28,28)\n",
        "logits = seq_modules(input_image)"
      ]
    },
    {
      "cell_type": "markdown",
      "metadata": {
        "id": "_r4pA-AD_eJd"
      },
      "source": [
        "nn.Softmax\n",
        "^^^^^^^^^^^^^^^^^^^^^^\n",
        "The last linear layer of the neural network returns `logits` - raw values in [-\\infty, \\infty] - which are passed to the\n",
        "`nn.Softmax <https://pytorch.org/docs/stable/generated/torch.nn.Softmax.html>`_ module. The logits are scaled to values\n",
        "[0, 1] representing the model's predicted probabilities for each class. ``dim`` parameter indicates the dimension along\n",
        "which the values must sum to 1.\n",
        "\n"
      ]
    },
    {
      "cell_type": "code",
      "execution_count": null,
      "metadata": {
        "id": "QIHz3FkD_eJd"
      },
      "outputs": [],
      "source": [
        "softmax = nn.Softmax(dim=1)\n",
        "pred_probab = softmax(logits) #[0,1]사이로 결과 스케일링"
      ]
    },
    {
      "cell_type": "markdown",
      "metadata": {
        "id": "DzsKyHMS_eJd"
      },
      "source": [
        "Model Parameters\n",
        "-------------------------\n",
        "Many layers inside a neural network are *parameterized*, i.e. have associated weights\n",
        "and biases that are optimized during training. Subclassing ``nn.Module`` automatically\n",
        "tracks all fields defined inside your model object, and makes all parameters\n",
        "accessible using your model's ``parameters()`` or ``named_parameters()`` methods.\n",
        "\n",
        "In this example, we iterate over each parameter, and print its size and a preview of its values.\n",
        "\n",
        "\n"
      ]
    },
    {
      "cell_type": "code",
      "execution_count": null,
      "metadata": {
        "id": "070QQLgC_eJe",
        "outputId": "ba4b5d7d-3705-4895-8d06-7fb535c458bd",
        "colab": {
          "base_uri": "https://localhost:8080/"
        }
      },
      "outputs": [
        {
          "output_type": "stream",
          "name": "stdout",
          "text": [
            "Model structure: NeuralNetwork(\n",
            "  (flatten): Flatten(start_dim=1, end_dim=-1)\n",
            "  (linear_relu_stack): Sequential(\n",
            "    (0): Linear(in_features=784, out_features=512, bias=True)\n",
            "    (1): ReLU()\n",
            "    (2): Linear(in_features=512, out_features=512, bias=True)\n",
            "    (3): ReLU()\n",
            "    (4): Linear(in_features=512, out_features=10, bias=True)\n",
            "  )\n",
            ")\n",
            "\n",
            "\n",
            "Layer: linear_relu_stack.0.weight | Size: torch.Size([512, 784]) | Values : tensor([[-0.0029, -0.0239, -0.0169,  ...,  0.0168,  0.0103,  0.0101],\n",
            "        [-0.0030, -0.0216, -0.0185,  ..., -0.0161,  0.0159, -0.0323]],\n",
            "       device='cuda:0', grad_fn=<SliceBackward0>) \n",
            "\n",
            "Layer: linear_relu_stack.0.bias | Size: torch.Size([512]) | Values : tensor([-0.0149,  0.0292], device='cuda:0', grad_fn=<SliceBackward0>) \n",
            "\n",
            "Layer: linear_relu_stack.2.weight | Size: torch.Size([512, 512]) | Values : tensor([[ 0.0018, -0.0001,  0.0343,  ..., -0.0200, -0.0029, -0.0122],\n",
            "        [ 0.0092, -0.0028,  0.0338,  ..., -0.0003,  0.0221,  0.0203]],\n",
            "       device='cuda:0', grad_fn=<SliceBackward0>) \n",
            "\n",
            "Layer: linear_relu_stack.2.bias | Size: torch.Size([512]) | Values : tensor([ 0.0317, -0.0421], device='cuda:0', grad_fn=<SliceBackward0>) \n",
            "\n",
            "Layer: linear_relu_stack.4.weight | Size: torch.Size([10, 512]) | Values : tensor([[ 0.0316,  0.0314, -0.0040,  ...,  0.0296, -0.0117,  0.0292],\n",
            "        [ 0.0419,  0.0149,  0.0143,  ..., -0.0311, -0.0011, -0.0139]],\n",
            "       device='cuda:0', grad_fn=<SliceBackward0>) \n",
            "\n",
            "Layer: linear_relu_stack.4.bias | Size: torch.Size([10]) | Values : tensor([-0.0223, -0.0418], device='cuda:0', grad_fn=<SliceBackward0>) \n",
            "\n"
          ]
        }
      ],
      "source": [
        "print(f\"Model structure: {model}\\n\\n\")\n",
        "\n",
        "for name, param in model.named_parameters():\n",
        "    print(f\"Layer: {name} | Size: {param.size()} | Values : {param[:2]} \\n\")"
      ]
    },
    {
      "cell_type": "markdown",
      "metadata": {
        "id": "eRZM6P2p_eJe"
      },
      "source": [
        "--------------\n",
        "\n",
        "\n"
      ]
    },
    {
      "cell_type": "markdown",
      "metadata": {
        "id": "YGV5tuEt_eJe"
      },
      "source": [
        "Further Reading\n",
        "--------------\n",
        "- `torch.nn API <https://pytorch.org/docs/stable/nn.html>`_\n",
        "\n"
      ]
    }
  ],
  "metadata": {
    "kernelspec": {
      "display_name": "Python 3",
      "language": "python",
      "name": "python3"
    },
    "language_info": {
      "codemirror_mode": {
        "name": "ipython",
        "version": 3
      },
      "file_extension": ".py",
      "mimetype": "text/x-python",
      "name": "python",
      "nbconvert_exporter": "python",
      "pygments_lexer": "ipython3",
      "version": "3.7.11"
    },
    "colab": {
      "name": "buildmodel_tutorial",
      "provenance": [],
      "machine_shape": "hm"
    },
    "accelerator": "GPU"
  },
  "nbformat": 4,
  "nbformat_minor": 0
}